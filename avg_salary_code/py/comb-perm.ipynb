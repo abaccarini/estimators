{
 "cells": [
  {
   "cell_type": "code",
   "execution_count": 5,
   "metadata": {},
   "outputs": [
    {
     "data": {
      "text/plain": [
       "[((0, 0, 4), 1.0),\n",
       " ((0, 1, 3), 4.0),\n",
       " ((0, 2, 2), 6.0),\n",
       " ((0, 3, 1), 4.0),\n",
       " ((0, 4, 0), 1.0),\n",
       " ((1, 0, 3), 4.0),\n",
       " ((1, 1, 2), 12.0),\n",
       " ((1, 2, 1), 12.0),\n",
       " ((1, 3, 0), 4.0),\n",
       " ((2, 0, 2), 6.0),\n",
       " ((2, 1, 1), 12.0),\n",
       " ((2, 2, 0), 6.0),\n",
       " ((3, 0, 1), 4.0),\n",
       " ((3, 1, 0), 4.0),\n",
       " ((4, 0, 0), 1.0)]"
      ]
     },
     "execution_count": 5,
     "metadata": {},
     "output_type": "execute_result"
    }
   ],
   "source": [
    "import itertools \n",
    "from itertools import permutations\n",
    "\n",
    "from math import factorial\n",
    "\n",
    "def mycomb(n):\n",
    "    for i in range(0, n+2):\n",
    "        for j in range(0, n+2):\n",
    "            for k in range(0, n+2):\n",
    "                if (i+j+k) == n:\n",
    "                    yield ((i,j,k),(factorial(n)/(factorial(i)*factorial(j)*factorial(k))))\n",
    "\n",
    "list(mycomb(4))"
   ]
  }
 ],
 "metadata": {
  "kernelspec": {
   "display_name": "Python 3",
   "language": "python",
   "name": "python3"
  },
  "language_info": {
   "codemirror_mode": {
    "name": "ipython",
    "version": 3
   },
   "file_extension": ".py",
   "mimetype": "text/x-python",
   "name": "python",
   "nbconvert_exporter": "python",
   "pygments_lexer": "ipython3",
   "version": "3.10.12"
  }
 },
 "nbformat": 4,
 "nbformat_minor": 2
}
